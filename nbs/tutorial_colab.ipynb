{
 "cells": [
  {
   "cell_type": "code",
   "metadata": {
    "cell_id": "00000-5566f67b-6212-4b21-8574-db4401bf9c01",
    "deepnote_to_be_reexecuted": false,
    "source_hash": "6cef6d74",
    "execution_start": 1628361809134,
    "execution_millis": 0,
    "deepnote_cell_type": "code"
   },
   "source": "#all_slow\n#colab",
   "execution_count": 1,
   "outputs": []
  },
  {
   "cell_type": "markdown",
   "source": "## Introduction\n\nIn this tutorial we are going to complete an entire `nbdev`-based project from start to finish utilizing only [Google Colaboratory](https://colab.research.google.com/), a free* alternative Jupyter environment with GPU capabilities. The goal is to set your project up in such a way that building, generating notebooks, testing, and setup is as seamless as possible inside their platform. \n\nThis tutorial is also available as a video, which you can watch below:\n\n\nblah",
   "metadata": {
    "cell_id": "00001-22f24a57-f2ab-4f89-bf42-523a2b6412f3",
    "deepnote_cell_type": "markdown"
   }
  },
  {
   "cell_type": "markdown",
   "source": "## Why Use Google Colaboratory?\n\nGoogle Colaboratory offers a few unique advantages over other platforms in regards to the capabilities you can utilize:\n\n1. You can have synchronous programming within the same notebook\n\n    When working in a team or in a pair-programming situation, you both can have the exact same Jupyter notebook open and synchronously write comments or code within it when your project is based out of your Google Drive. Other platforms have only recently been testing this capability\n\n2. Smaller projects that don't require git can still be utilized\n\n    There are certainly situations where perhaps you (or the company you work for) don't see the benefit yet in storing your code away in a repository. Simply keeping it in your Google Drive offers you this flexibility, while losing almost none of the benefits of GitHub. \n\n3. It's free*\n\n    Whether you're a student or someone who worries about your GPU credits, Google Colaboratory has a free option for you to utilize both Jupyter and GPU's without requiring a credit card to get started. Recently Google has released a [Colab Pro](https://colab.research.google.com/signup) option for $10/month (only for the US and Canada right now), which allows for better access to GPU's and an in-house terminal, but neither of these are truly needed to get you utilizing Colab for `nbdev` and your software engineering projects!",
   "metadata": {
    "cell_id": "00002-680f0910-8d9c-4d03-b95f-814848deedbf",
    "deepnote_cell_type": "markdown"
   }
  },
  {
   "cell_type": "markdown",
   "source": "## Using the Template Repository",
   "metadata": {
    "cell_id": "00003-97acf17b-54ec-4985-b63d-bbc60e51d52f",
    "deepnote_cell_type": "markdown"
   }
  },
  {
   "cell_type": "markdown",
   "source": "Now let's build a library!\n\nThe first step in beginning your new nbdev project should be to use the [nbdev_template](https://github.com/fastai/nbdev_template) that fastai provides.\n\nTo start your project, select \"Use this template\":\n\n![Use this template](https://i.imgur.com/TNtaJvQ.jpg)",
   "metadata": {
    "cell_id": "00004-8dc0ae43-9eea-4279-899e-e5afd08ab88a",
    "deepnote_cell_type": "markdown"
   }
  },
  {
   "cell_type": "markdown",
   "source": "From there you will be asked for:\n1. A Repository name - for this tutorial we'll call it \"nbdev_colab_tutorial\"\n2. Whether the repository will be public or private - for this tutorial use Public\n3. After filling out the above fields select \"Create repository from template\"\n\n![](https://i.imgur.com/uhlWiPe.jpg)",
   "metadata": {
    "cell_id": "00005-118e80e0-fcc9-4640-9d23-e458e8bb270c",
    "deepnote_cell_type": "markdown"
   }
  },
  {
   "cell_type": "markdown",
   "source": "After a few seconds your repository should now be live. ",
   "metadata": {
    "cell_id": "00006-5249edd0-d216-4b92-99c9-dc131bf0b0f2",
    "deepnote_cell_type": "markdown"
   }
  },
  {
   "cell_type": "markdown",
   "source": "The last step we need to complete for initializing our repository is filling out the `settings.ini` (You may have received an email notice stating that a run failed, this is why). Open it in your repository:\n\n![](https://i.imgur.com/I18OJmk.jpg)",
   "metadata": {
    "cell_id": "00007-048df213-210c-4672-ba06-ae4985001cbc",
    "deepnote_cell_type": "markdown"
   }
  },
  {
   "cell_type": "markdown",
   "source": "We need to edit this file with everything that nbdev needs to be properly configured\n> Read more on settings.ini [here](https://nbdev.fast.ai/tutorial.html#Edit-settings.ini)\n\nYou'll see these commented out lines in `settings.ini`. Uncomment them, and set each value as needed.\n\n```\n# lib_name = your_project_name\n# user = your_github_username\n# description = A description of your project\n# keywords = some keywords\n# author = Your Name\n# author_email = email@example.com\n# copyright = Your Name or Company Name\n```",
   "metadata": {
    "cell_id": "00008-6ec00c14-989f-45c3-98d3-39daf7505218",
    "deepnote_cell_type": "markdown"
   }
  },
  {
   "cell_type": "markdown",
   "source": "\n\nAfterwards hit the \"Commit changes\" button at the bottom of the editor:\n\n![](https://i.imgur.com/qVqcIiH.jpg)",
   "metadata": {
    "cell_id": "00009-f45ce545-9a92-4b38-b19c-357d317abb13",
    "deepnote_cell_type": "markdown"
   }
  },
  {
   "cell_type": "markdown",
   "source": "Now we can get started over in Colab!",
   "metadata": {
    "cell_id": "00010-3804a683-efc1-4b19-aff8-18698138286e",
    "deepnote_cell_type": "markdown"
   }
  },
  {
   "cell_type": "markdown",
   "source": "## Setting up your Google Drive and Git Configuration\n\nFor this next step we are going to take advantage of Colab's [Scratchpad](https://colab.research.google.com/notebooks/empty.ipynb) notebook, as we're going to do a few housekeeping steps that don't need to be logged in a notebook somewhere. \n\nFirst you should mount your Google Drive in your instance by running the following cell and following the prompt:",
   "metadata": {
    "cell_id": "00011-fadbc820-bb94-4a4c-8773-425b913597c8",
    "deepnote_cell_type": "markdown"
   }
  },
  {
   "cell_type": "code",
   "metadata": {
    "cell_id": "00012-b0aa384e-21fd-4e5a-9317-b32f4403907a",
    "deepnote_cell_type": "code"
   },
   "source": "from google.colab import drive\ndrive.mount('/content/drive')",
   "execution_count": null,
   "outputs": [
    {
     "name": "stdout",
     "output_type": "stream",
     "text": "Mounted at /content/drive\n"
    }
   ]
  },
  {
   "cell_type": "markdown",
   "source": "Your drive is now located at `/content/drive/MyDrive`",
   "metadata": {
    "cell_id": "00013-b53a2669-eac0-4bbf-97e7-7420ba395195",
    "deepnote_cell_type": "markdown"
   }
  },
  {
   "cell_type": "markdown",
   "source": "Next we need to change our working directory into our Google Drive, as this is where our repository will get saved to and where we can setup git",
   "metadata": {
    "cell_id": "00014-d11757cb-3c6c-47a8-b80c-ef23c2e461af",
    "deepnote_cell_type": "markdown"
   }
  },
  {
   "cell_type": "code",
   "metadata": {
    "cell_id": "00015-492d324a-e9ea-483d-aa96-b17c05aa3c28",
    "deepnote_cell_type": "code"
   },
   "source": "%cd drive/MyDrive",
   "execution_count": null,
   "outputs": [
    {
     "name": "stdout",
     "output_type": "stream",
     "text": "/content/drive/MyDrive\n"
    }
   ]
  },
  {
   "cell_type": "markdown",
   "source": "Now we can clone our repository into our Drive:",
   "metadata": {
    "cell_id": "00016-d4505cf8-6197-4d25-ad20-190193ec7642",
    "deepnote_cell_type": "markdown"
   }
  },
  {
   "cell_type": "code",
   "metadata": {
    "cell_id": "00017-4686af1d-30f7-49b1-b88d-202e729a82d3",
    "deepnote_cell_type": "code"
   },
   "source": "!git clone https://github.com/{insert_username_here}/nbdev_colab_tutorial",
   "execution_count": null,
   "outputs": [
    {
     "name": "stdout",
     "output_type": "stream",
     "text": "Cloning into 'nbdev_colab_tutorial'...\nremote: Enumerating objects: 25, done.\u001b[K\nremote: Counting objects: 100% (25/25), done.\u001b[K\nremote: Compressing objects: 100% (22/22), done.\u001b[K\nremote: Total 25 (delta 3), reused 13 (delta 0), pack-reused 0\u001b[K\nUnpacking objects: 100% (25/25), done.\n"
    }
   ]
  },
  {
   "cell_type": "markdown",
   "source": "We need to change directories again into our project:",
   "metadata": {
    "cell_id": "00018-019f91fa-78c2-48e2-9185-a2ca587c809d",
    "deepnote_cell_type": "markdown"
   }
  },
  {
   "cell_type": "code",
   "metadata": {
    "cell_id": "00019-c6500751-2611-4e33-a6a5-b141301175f5",
    "deepnote_cell_type": "code"
   },
   "source": "%cd nbdev_colab_tutorial",
   "execution_count": null,
   "outputs": [
    {
     "name": "stdout",
     "output_type": "stream",
     "text": "/content/drive/MyDrive/nbdev_colab_tutorial\n"
    }
   ]
  },
  {
   "cell_type": "markdown",
   "source": "To let git know who we are, we need to run two bash commands:\n\n* `git config user.name`\n* `git config user.email`\n\nLet's do so:",
   "metadata": {
    "cell_id": "00020-4a0ffca2-0e7a-471b-b07f-b2b43d19650d",
    "deepnote_cell_type": "markdown"
   }
  },
  {
   "cell_type": "code",
   "metadata": {
    "cell_id": "00021-eb61da14-e40b-4a76-bae3-0655834e4805",
    "deepnote_cell_type": "code"
   },
   "source": "!git config user.name \"Your name\"\n!git config user.email \"email@example.com\"",
   "execution_count": null,
   "outputs": []
  },
  {
   "cell_type": "markdown",
   "source": "Lastly we need to export the template `00_core` notebook so that we have a module:",
   "metadata": {
    "cell_id": "00022-3578b241-b8a5-451c-82ce-9c651a2b1e25",
    "deepnote_cell_type": "markdown"
   }
  },
  {
   "cell_type": "code",
   "metadata": {
    "cell_id": "00023-76df7a80-7a29-4499-8ed7-02396dbc35b8",
    "deepnote_cell_type": "code"
   },
   "source": "!nbdev_build_lib",
   "execution_count": null,
   "outputs": [
    {
     "name": "stdout",
     "output_type": "stream",
     "text": "Converted 00_core.ipynb.\nConverted index.ipynb.\n"
    }
   ]
  },
  {
   "cell_type": "markdown",
   "source": "The project has now been completely primed and is ready to be worked on",
   "metadata": {
    "cell_id": "00024-610a0588-ee8d-40cc-9fcb-db275b1bf81c",
    "deepnote_cell_type": "markdown"
   }
  },
  {
   "cell_type": "markdown",
   "source": "## Writing a New Module and the Setup Cell for Each Notebook",
   "metadata": {
    "cell_id": "00025-b5688362-3cdb-4411-ad48-efa4db0fb382",
    "deepnote_cell_type": "markdown"
   }
  },
  {
   "cell_type": "markdown",
   "source": "\n\nTo add in a new module or notebook to your library you should create a new Colab notebook through your Google Drive in whichever folder your notebooks are stored in. ",
   "metadata": {
    "cell_id": "00026-4ea9bc8e-bd5b-4c38-8ef3-4a3217a31ed6",
    "deepnote_cell_type": "markdown"
   }
  },
  {
   "cell_type": "markdown",
   "source": "From there all that is needed is for you to run a small cell that should be at the top of each notebook, setting up your Colab environment and performs the following setup steps:\n\n1. Mount Google Drive\n2. Change to the library directory\n3. Installs the library\n4. Installs nbdev",
   "metadata": {
    "cell_id": "00027-1c1f4373-526b-43c1-bbc0-b80ea3989292",
    "deepnote_cell_type": "markdown"
   }
  },
  {
   "cell_type": "code",
   "metadata": {
    "cell_id": "00028-f7435fe7-8dfa-4239-92fa-883ba9434a9d",
    "deepnote_cell_type": "code"
   },
   "source": "from google.colab import drive\ndrive.mount('/content/drive')\n%cd 'drive/MyDrive/{path_to_repository}/{library_name}'\n!pip3 install -e . -q\n!pip3 install nbdev -q",
   "execution_count": null,
   "outputs": []
  },
  {
   "cell_type": "markdown",
   "source": "From there you can build your library following the [tutorial](https://nbdev.fast.ai/tutorial.html). Any changes you save in your notebook are reflected in your Google Drive, so you can always call `nbdev_build_lib`, `_clean_nbs`, etc and have it function as expected.",
   "metadata": {
    "cell_id": "00029-00a20f41-2d65-41d0-8215-4256f98cb157",
    "deepnote_cell_type": "markdown"
   }
  },
  {
   "cell_type": "markdown",
   "source": "## Pushing to Git",
   "metadata": {
    "cell_id": "00030-4d72bc86-fd3f-42bb-a403-9085d33c94d3",
    "deepnote_cell_type": "markdown"
   }
  },
  {
   "cell_type": "markdown",
   "source": "The last step is pushing our changes to GitHub. We can check in our files to our GitHub repo with the following commands:",
   "metadata": {
    "cell_id": "00031-47c06985-ecfb-4aa1-82e2-596486649c25",
    "deepnote_cell_type": "markdown"
   }
  },
  {
   "cell_type": "code",
   "metadata": {
    "cell_id": "00032-8ba24d2f-28d4-42be-b6f1-f181a9bd4f3b",
    "deepnote_cell_type": "code"
   },
   "source": "!git add *\n!git commit -m \"Test commit message\"\n!git push origin master",
   "execution_count": null,
   "outputs": []
  },
  {
   "cell_type": "markdown",
   "source": "> Note: If you have Colab Pro, use the terminal to push to git with the same bash commands",
   "metadata": {
    "cell_id": "00033-aadf930a-d6dd-414a-85f1-4a600a8b5895",
    "deepnote_cell_type": "markdown"
   }
  },
  {
   "cell_type": "markdown",
   "source": "And that's it! You now know how to run `nbdev` entirely out of your Google Drive and Google Colaboratory.",
   "metadata": {
    "cell_id": "00034-d9404187-d319-47ce-babd-63afcd2ba37b",
    "deepnote_cell_type": "markdown"
   }
  },
  {
   "cell_type": "code",
   "metadata": {
    "cell_id": "00035-814cb33c-ff42-4feb-8a7e-c0768f9cecf4",
    "deepnote_cell_type": "code"
   },
   "source": "",
   "execution_count": null,
   "outputs": []
  },
  {
   "cell_type": "markdown",
   "source": "<a style='text-decoration:none;line-height:16px;display:flex;color:#5B5B62;padding:10px;justify-content:end;' href='https://deepnote.com?utm_source=created-in-deepnote-cell&projectId=29601eeb-61df-4180-84fc-2f761c507660' target=\"_blank\">\n<img alt='Created in deepnote.com' style='display:inline;max-height:16px;margin:0px;margin-right:7.5px;' src='data:image/svg+xml;base64,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' > </img>\nCreated in <span style='font-weight:600;margin-left:4px;'>Deepnote</span></a>",
   "metadata": {
    "tags": [],
    "created_in_deepnote_cell": true,
    "deepnote_cell_type": "markdown"
   }
  }
 ],
 "nbformat": 4,
 "nbformat_minor": 1,
 "metadata": {
  "kernelspec": {
   "display_name": "Python 3",
   "language": "python",
   "name": "python3"
  },
  "deepnote_notebook_id": "9e89724f-ee8e-4733-8b1f-a480481acaec",
  "deepnote": {},
  "deepnote_execution_queue": []
 }
}